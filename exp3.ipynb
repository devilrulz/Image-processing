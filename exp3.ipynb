{
 "cells": [
  {
   "cell_type": "code",
   "execution_count": 3,
   "id": "eef1d7cd",
   "metadata": {},
   "outputs": [
    {
     "name": "stdout",
     "output_type": "stream",
     "text": [
      "Spaces converted and saved to output.txt with replacement character '_'.\n"
     ]
    }
   ],
   "source": [
    "def convert_spaces(input_path, output_path, replacement_char='_'):\n",
    "    try:\n",
    "        with open(input_path, 'r') as infile:\n",
    "            content = infile.read()\n",
    "            converted_content = content.replace(' ', replacement_char)\n",
    "        with open(output_path, 'w') as outfile:\n",
    "            outfile.write(converted_content)\n",
    "        print(f\"Spaces converted and saved to {output_path} with replacement character '_'.\")\n",
    "    except Exception as e:\n",
    "        print(f\"Error: {e}\")\n",
    "\n",
    "if __name__ == \"__main__\":\n",
    "\n",
    "    input_path = \"input.txt\"\n",
    "    output_path = \"output.txt\"\n",
    "    replacement_char = '_'\n",
    "    convert_spaces(input_path, output_path, replacement_char)\n"
   ]
  },
  {
   "cell_type": "code",
   "execution_count": null,
   "id": "8c1c2cd1",
   "metadata": {},
   "outputs": [],
   "source": []
  }
 ],
 "metadata": {
  "kernelspec": {
   "display_name": "Python 3",
   "language": "python",
   "name": "python3"
  },
  "language_info": {
   "codemirror_mode": {
    "name": "ipython",
    "version": 3
   },
   "file_extension": ".py",
   "mimetype": "text/x-python",
   "name": "python",
   "nbconvert_exporter": "python",
   "pygments_lexer": "ipython3",
   "version": "3.8.8"
  }
 },
 "nbformat": 4,
 "nbformat_minor": 5
}
