{
 "cells": [
  {
   "cell_type": "code",
   "execution_count": null,
   "id": "51c3611e",
   "metadata": {},
   "outputs": [],
   "source": [
    "import cv2\n",
    "import numpy as np\n",
    "\n",
    "def apply_threshold(img, threshold_value):\n",
    "    try:\n",
    "        _, thresholded_img = cv2.threshold(img, threshold_value, 255, cv2.THRESH_BINARY)\n",
    "        return thresholded_img\n",
    "    except Exception as e:\n",
    "        print(f\"Error applying threshold: {e}\")\n",
    "        return None\n",
    "\n",
    "def threshold_image(input_path, output_path_template, threshold_values):\n",
    "    try:\n",
    "        img = cv2.imread(input_path, cv2.IMREAD_GRAYSCALE)\n",
    "        if img is None:\n",
    "            print(\"Error: Failed to read input image.\")\n",
    "            return\n",
    "\n",
    "        for i, threshold in enumerate(threshold_values):\n",
    "            thresholded_img = apply_threshold(img, threshold)\n",
    "            if thresholded_img is not None:\n",
    "                cv2.imshow(f\"Threshold {i+1}\", thresholded_img)\n",
    "                cv2.imwrite(output_path_template.format(i+1), thresholded_img)\n",
    "        \n",
    "        cv2.waitKey(0)\n",
    "        cv2.destroyAllWindows()\n",
    "    \n",
    "    except Exception as e:\n",
    "        print(f\"Error: {e}\")\n",
    "\n",
    "if __name__ == \"__main__\":\n",
    "    input_path = \"CAT.jpg\"\n",
    "    output_path_template = \"thresholded_images{}.jpg\"\n",
    "    threshold_values = [60, 80, 160]\n",
    "    \n",
    "    threshold_image(input_path, output_path_template, threshold_values)\n"
   ]
  },
  {
   "cell_type": "code",
   "execution_count": null,
   "id": "ffb39841",
   "metadata": {},
   "outputs": [],
   "source": [
    "\n"
   ]
  },
  {
   "cell_type": "code",
   "execution_count": null,
   "id": "fb7eb2e8",
   "metadata": {},
   "outputs": [],
   "source": []
  }
 ],
 "metadata": {
  "kernelspec": {
   "display_name": "Python 3",
   "language": "python",
   "name": "python3"
  },
  "language_info": {
   "codemirror_mode": {
    "name": "ipython",
    "version": 3
   },
   "file_extension": ".py",
   "mimetype": "text/x-python",
   "name": "python",
   "nbconvert_exporter": "python",
   "pygments_lexer": "ipython3",
   "version": "3.8.8"
  }
 },
 "nbformat": 4,
 "nbformat_minor": 5
}
