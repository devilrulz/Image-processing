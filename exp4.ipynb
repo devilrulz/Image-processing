{
 "cells": [
  {
   "cell_type": "code",
   "execution_count": 1,
   "id": "caebe61d",
   "metadata": {},
   "outputs": [
    {
     "name": "stdout",
     "output_type": "stream",
     "text": [
      "Grayscale image generated and saved to grayscale_image.jpeg.\n",
      "Negative image generated and saved to negative_image.jpeg.\n"
     ]
    }
   ],
   "source": [
    "from PIL import Image\n",
    "\n",
    "def generate_grayscale(input_path, output_path):\n",
    "    try:\n",
    "        with Image.open(input_path) as img:\n",
    "            grayscale_img = img.convert(\"L\")\n",
    "            grayscale_img.save(output_path)\n",
    "        print(f\"Grayscale image generated and saved to {output_path}.\")\n",
    "    except Exception as e:\n",
    "        print(f\"Error: {e}\")\n",
    "\n",
    "def generate_negative(input_path, output_path):\n",
    "    try:\n",
    "        with Image.open(input_path) as grayscale_img:\n",
    "            negative_img = Image.eval(grayscale_img, lambda x: 255 - x)\n",
    "            negative_img.save(output_path)\n",
    "        print(f\"Negative image generated and saved to {output_path}.\")\n",
    "    except Exception as e:\n",
    "        print(f\"Error: {e}\")\n",
    "\n",
    "if __name__ == \"__main__\":\n",
    "    input_path = \"OIP.jpeg\"\n",
    "    grayscale_output_path = \"grayscale_image.jpeg\"\n",
    "    negative_output_path = \"negative_image.jpeg\"\n",
    "    \n",
    "    generate_grayscale(input_path, grayscale_output_path)\n",
    "    \n",
    "    generate_negative(grayscale_output_path, negative_output_path)\n"
   ]
  },
  {
   "cell_type": "code",
   "execution_count": null,
   "id": "421265b9",
   "metadata": {},
   "outputs": [],
   "source": []
  }
 ],
 "metadata": {
  "kernelspec": {
   "display_name": "Python 3",
   "language": "python",
   "name": "python3"
  },
  "language_info": {
   "codemirror_mode": {
    "name": "ipython",
    "version": 3
   },
   "file_extension": ".py",
   "mimetype": "text/x-python",
   "name": "python",
   "nbconvert_exporter": "python",
   "pygments_lexer": "ipython3",
   "version": "3.8.8"
  }
 },
 "nbformat": 4,
 "nbformat_minor": 5
}
